{
  "nbformat": 4,
  "nbformat_minor": 0,
  "metadata": {
    "colab": {
      "provenance": []
    },
    "kernelspec": {
      "name": "python3",
      "display_name": "Python 3"
    },
    "language_info": {
      "name": "python"
    }
  },
  "cells": [
    {
      "cell_type": "markdown",
      "source": [
        "#### Importing Libraries"
      ],
      "metadata": {
        "id": "qZGIWoOvJSel"
      }
    },
    {
      "cell_type": "code",
      "execution_count": null,
      "metadata": {
        "colab": {
          "base_uri": "https://localhost:8080/"
        },
        "id": "6WxBxa7_JFgk",
        "outputId": "5b5e19ab-bc41-4648-9f51-76b7e837ba50"
      },
      "outputs": [
        {
          "output_type": "stream",
          "name": "stderr",
          "text": [
            "[nltk_data] Downloading package stopwords to /root/nltk_data...\n",
            "[nltk_data]   Package stopwords is already up-to-date!\n",
            "[nltk_data] Downloading package punkt to /root/nltk_data...\n",
            "[nltk_data]   Package punkt is already up-to-date!\n"
          ]
        }
      ],
      "source": [
        "import pandas as pd\n",
        "import string\n",
        "import re\n",
        "import nltk\n",
        "nltk.download('stopwords')\n",
        "from nltk.corpus import stopwords\n",
        "nltk.download('punkt')\n",
        "from nltk.tokenize import word_tokenize\n",
        "from nltk.stem import PorterStemmer\n",
        "\n",
        "import random\n",
        "random.seed(10)"
      ]
    },
    {
      "cell_type": "markdown",
      "source": [
        "#### Loading the Dataset"
      ],
      "metadata": {
        "id": "WL0zIypXJlFh"
      }
    },
    {
      "cell_type": "code",
      "source": [
        "df = pd.read_csv('all_documents.csv')\n",
        "df.head()"
      ],
      "metadata": {
        "colab": {
          "base_uri": "https://localhost:8080/",
          "height": 337
        },
        "id": "-dIvlqJRJh0i",
        "outputId": "f5854682-1365-4f49-fde6-9711898f383f"
      },
      "execution_count": null,
      "outputs": [
        {
          "output_type": "execute_result",
          "data": {
            "text/plain": [
              "                                               Sport  \\\n",
              "0  Claxton hunting first major medal\\n\\nBritish h...   \n",
              "1  O'Sullivan could run in Worlds\\n\\nSonia O'Sull...   \n",
              "2  Greene sets sights on world title\\n\\nMaurice G...   \n",
              "3  IAAF launches fight against drugs\\n\\nThe IAAF ...   \n",
              "4  Dibaba breaks 5,000m world record\\n\\nEthiopia'...   \n",
              "\n",
              "                                              health  \\\n",
              "0  Alabama Medicaid Agency (AMA) proposes to crea...   \n",
              "1  Alabama's Medicaid Health Home SPA targets ind...   \n",
              "2  The State of Alabama Medicaid Agency (AMA) is ...   \n",
              "3  Alabama Medicaid Agency (AMA) proposes to crea...   \n",
              "4  Alabama's Medicaid Health Home SPA targets ind...   \n",
              "\n",
              "                                             Politic  \n",
              "0  Labour plans maternity pay rise\\n\\nMaternity p...  \n",
              "1  Watchdog probes e-mail deletions\\n\\nThe inform...  \n",
              "2  Hewitt decries 'career sexism'\\n\\nPlans to ext...  \n",
              "3  Labour chooses Manchester\\n\\nThe Labour Party ...  \n",
              "4  Brown ally rejects Budget spree\\n\\nChancellor ...  "
            ],
            "text/html": [
              "\n",
              "  <div id=\"df-fc8239f8-242d-4223-990f-ea3c4f355ad2\">\n",
              "    <div class=\"colab-df-container\">\n",
              "      <div>\n",
              "<style scoped>\n",
              "    .dataframe tbody tr th:only-of-type {\n",
              "        vertical-align: middle;\n",
              "    }\n",
              "\n",
              "    .dataframe tbody tr th {\n",
              "        vertical-align: top;\n",
              "    }\n",
              "\n",
              "    .dataframe thead th {\n",
              "        text-align: right;\n",
              "    }\n",
              "</style>\n",
              "<table border=\"1\" class=\"dataframe\">\n",
              "  <thead>\n",
              "    <tr style=\"text-align: right;\">\n",
              "      <th></th>\n",
              "      <th>Sport</th>\n",
              "      <th>health</th>\n",
              "      <th>Politic</th>\n",
              "    </tr>\n",
              "  </thead>\n",
              "  <tbody>\n",
              "    <tr>\n",
              "      <th>0</th>\n",
              "      <td>Claxton hunting first major medal\\n\\nBritish h...</td>\n",
              "      <td>Alabama Medicaid Agency (AMA) proposes to crea...</td>\n",
              "      <td>Labour plans maternity pay rise\\n\\nMaternity p...</td>\n",
              "    </tr>\n",
              "    <tr>\n",
              "      <th>1</th>\n",
              "      <td>O'Sullivan could run in Worlds\\n\\nSonia O'Sull...</td>\n",
              "      <td>Alabama's Medicaid Health Home SPA targets ind...</td>\n",
              "      <td>Watchdog probes e-mail deletions\\n\\nThe inform...</td>\n",
              "    </tr>\n",
              "    <tr>\n",
              "      <th>2</th>\n",
              "      <td>Greene sets sights on world title\\n\\nMaurice G...</td>\n",
              "      <td>The State of Alabama Medicaid Agency (AMA) is ...</td>\n",
              "      <td>Hewitt decries 'career sexism'\\n\\nPlans to ext...</td>\n",
              "    </tr>\n",
              "    <tr>\n",
              "      <th>3</th>\n",
              "      <td>IAAF launches fight against drugs\\n\\nThe IAAF ...</td>\n",
              "      <td>Alabama Medicaid Agency (AMA) proposes to crea...</td>\n",
              "      <td>Labour chooses Manchester\\n\\nThe Labour Party ...</td>\n",
              "    </tr>\n",
              "    <tr>\n",
              "      <th>4</th>\n",
              "      <td>Dibaba breaks 5,000m world record\\n\\nEthiopia'...</td>\n",
              "      <td>Alabama's Medicaid Health Home SPA targets ind...</td>\n",
              "      <td>Brown ally rejects Budget spree\\n\\nChancellor ...</td>\n",
              "    </tr>\n",
              "  </tbody>\n",
              "</table>\n",
              "</div>\n",
              "      <button class=\"colab-df-convert\" onclick=\"convertToInteractive('df-fc8239f8-242d-4223-990f-ea3c4f355ad2')\"\n",
              "              title=\"Convert this dataframe to an interactive table.\"\n",
              "              style=\"display:none;\">\n",
              "        \n",
              "  <svg xmlns=\"http://www.w3.org/2000/svg\" height=\"24px\"viewBox=\"0 0 24 24\"\n",
              "       width=\"24px\">\n",
              "    <path d=\"M0 0h24v24H0V0z\" fill=\"none\"/>\n",
              "    <path d=\"M18.56 5.44l.94 2.06.94-2.06 2.06-.94-2.06-.94-.94-2.06-.94 2.06-2.06.94zm-11 1L8.5 8.5l.94-2.06 2.06-.94-2.06-.94L8.5 2.5l-.94 2.06-2.06.94zm10 10l.94 2.06.94-2.06 2.06-.94-2.06-.94-.94-2.06-.94 2.06-2.06.94z\"/><path d=\"M17.41 7.96l-1.37-1.37c-.4-.4-.92-.59-1.43-.59-.52 0-1.04.2-1.43.59L10.3 9.45l-7.72 7.72c-.78.78-.78 2.05 0 2.83L4 21.41c.39.39.9.59 1.41.59.51 0 1.02-.2 1.41-.59l7.78-7.78 2.81-2.81c.8-.78.8-2.07 0-2.86zM5.41 20L4 18.59l7.72-7.72 1.47 1.35L5.41 20z\"/>\n",
              "  </svg>\n",
              "      </button>\n",
              "      \n",
              "  <style>\n",
              "    .colab-df-container {\n",
              "      display:flex;\n",
              "      flex-wrap:wrap;\n",
              "      gap: 12px;\n",
              "    }\n",
              "\n",
              "    .colab-df-convert {\n",
              "      background-color: #E8F0FE;\n",
              "      border: none;\n",
              "      border-radius: 50%;\n",
              "      cursor: pointer;\n",
              "      display: none;\n",
              "      fill: #1967D2;\n",
              "      height: 32px;\n",
              "      padding: 0 0 0 0;\n",
              "      width: 32px;\n",
              "    }\n",
              "\n",
              "    .colab-df-convert:hover {\n",
              "      background-color: #E2EBFA;\n",
              "      box-shadow: 0px 1px 2px rgba(60, 64, 67, 0.3), 0px 1px 3px 1px rgba(60, 64, 67, 0.15);\n",
              "      fill: #174EA6;\n",
              "    }\n",
              "\n",
              "    [theme=dark] .colab-df-convert {\n",
              "      background-color: #3B4455;\n",
              "      fill: #D2E3FC;\n",
              "    }\n",
              "\n",
              "    [theme=dark] .colab-df-convert:hover {\n",
              "      background-color: #434B5C;\n",
              "      box-shadow: 0px 1px 3px 1px rgba(0, 0, 0, 0.15);\n",
              "      filter: drop-shadow(0px 1px 2px rgba(0, 0, 0, 0.3));\n",
              "      fill: #FFFFFF;\n",
              "    }\n",
              "  </style>\n",
              "\n",
              "      <script>\n",
              "        const buttonEl =\n",
              "          document.querySelector('#df-fc8239f8-242d-4223-990f-ea3c4f355ad2 button.colab-df-convert');\n",
              "        buttonEl.style.display =\n",
              "          google.colab.kernel.accessAllowed ? 'block' : 'none';\n",
              "\n",
              "        async function convertToInteractive(key) {\n",
              "          const element = document.querySelector('#df-fc8239f8-242d-4223-990f-ea3c4f355ad2');\n",
              "          const dataTable =\n",
              "            await google.colab.kernel.invokeFunction('convertToInteractive',\n",
              "                                                     [key], {});\n",
              "          if (!dataTable) return;\n",
              "\n",
              "          const docLinkHtml = 'Like what you see? Visit the ' +\n",
              "            '<a target=\"_blank\" href=https://colab.research.google.com/notebooks/data_table.ipynb>data table notebook</a>'\n",
              "            + ' to learn more about interactive tables.';\n",
              "          element.innerHTML = '';\n",
              "          dataTable['output_type'] = 'display_data';\n",
              "          await google.colab.output.renderOutput(dataTable, element);\n",
              "          const docLink = document.createElement('div');\n",
              "          docLink.innerHTML = docLinkHtml;\n",
              "          element.appendChild(docLink);\n",
              "        }\n",
              "      </script>\n",
              "    </div>\n",
              "  </div>\n",
              "  "
            ]
          },
          "metadata": {},
          "execution_count": 2
        }
      ]
    },
    {
      "cell_type": "code",
      "source": [
        "# checking the shape of the document.\n",
        "\n",
        "df.shape"
      ],
      "metadata": {
        "colab": {
          "base_uri": "https://localhost:8080/"
        },
        "id": "X0WcimbuOci4",
        "outputId": "f42fd7f7-3fe5-4c2c-b1eb-7b32637e91e4"
      },
      "execution_count": null,
      "outputs": [
        {
          "output_type": "execute_result",
          "data": {
            "text/plain": [
              "(108, 3)"
            ]
          },
          "metadata": {},
          "execution_count": 3
        }
      ]
    },
    {
      "cell_type": "markdown",
      "source": [
        "The dataset have 3 types of document and 108 document in each column."
      ],
      "metadata": {
        "id": "eXE1oC_-OlYs"
      }
    },
    {
      "cell_type": "code",
      "source": [
        "health = df.health.tolist()\n",
        "health[:2]"
      ],
      "metadata": {
        "colab": {
          "base_uri": "https://localhost:8080/"
        },
        "id": "mDIIw9J3Juxc",
        "outputId": "ab0d404c-1a76-4a5a-bbe7-ff87ced341c2"
      },
      "execution_count": null,
      "outputs": [
        {
          "output_type": "execute_result",
          "data": {
            "text/plain": [
              "['Alabama Medicaid Agency (AMA) proposes to create funding pools under the Demonstration that support the development, transition and maintenance of a coordinated care delivery system through the regional care organizations (RCOs), and to provide a mechanism for investments in delivery system reform. The funding pools will have three distinct components for which federal financial participation is requested: (1) funding for designated state health programs (DSHP), (2) transition payments to RCOs, hospitals, and other eligible providers to cover costs associated with transitioning to the RCO model, and (3) a delivery system reform incentive payment (DSRIP) program for RCOs, hospitals, and other eligible providers that will better align provider payment with the value of care.',\n",
              " 'Alabama\\'s Medicaid Health Home SPA targets individuals with a single behavioral health issue, two chronic conditions; or one chronic condition and the risk of developing another from the following list of conditions: Mental Health Condition, Substance Use Disorder, Asthma, Diabetes, Heart Disease, Transplants, Cardiovascular Disease, Chronic Obstructive Pulmonary Disease, Cancer, HIV and Sickle Cell Anemia.  Alabama utilizes MMIS and the Care Management Information System to identify patients meeting health home criteria. The state currently requires an integrated medical record but not an electronic continuity of care record. Alabama also uses web-based tools, a HIPAA-client portal, home monitoring (Real-time Medical Electronic Data Exchange (RMEDETM) system and an interactive voice response system (IVR). The state is planning to implement use of \"One Health Record\" [the state\\'s HIE] when national standards are finalized. Once One Health Record is operational the state will consider possible sharing of consent forms and encouragement of all providers types (SA, CMHCs and ADPH) to connect to One Health Record.  Building off the work of Q-Tool, the infrastructure for One Health RecordTM and the infrastructure for Meaningful Use will be utilized for the Patient 1st Program, including a HIPAA-client portal that enables providers to view paid claims data submitted for an enrollee by any provider. The portal will provide access to hospital emergency department services claims data, specific preferred drug lists (PDL), prescription information for an individual enrollee, information regarding whether a prescription meets requirement for Medicaid payment. Providers will be able to transmit a prescription electronically to the enrollee\\'s pharmacy of choice, review laboratory data and determine medication adherence information. Enhancements under consideration specifically address the opportunity for a unified web-based assessment tool, particularly related to mental health and substance use.']"
            ]
          },
          "metadata": {},
          "execution_count": 4
        }
      ]
    },
    {
      "cell_type": "code",
      "source": [
        "politics = df.Politic.tolist()\n",
        "politics[0]"
      ],
      "metadata": {
        "colab": {
          "base_uri": "https://localhost:8080/",
          "height": 223
        },
        "id": "KZyu7OnWKG-u",
        "outputId": "22d4b38e-c730-481e-b5a0-f054dde0cfb3"
      },
      "execution_count": null,
      "outputs": [
        {
          "output_type": "execute_result",
          "data": {
            "text/plain": [
              "'Labour plans maternity pay rise\\n\\nMaternity pay for new mothers is to rise by £1,400 as part of new proposals announced by the Trade and Industry Secretary Patricia Hewitt.\\n\\nIt would mean paid leave would be increased to nine months by 2007, Ms Hewitt told GMTV\\'s Sunday programme. Other plans include letting maternity pay be given to fathers and extending rights to parents of older children. The Tories dismissed the maternity pay plan as \"desperate\", while the Liberal Democrats said it was misdirected.\\n\\nMs Hewitt said: \"We have already doubled the length of maternity pay, it was 13 weeks when we were elected, we have already taken it up to 26 weeks. \"We are going to extend the pay to nine months by 2007 and the aim is to get it right up to the full 12 months by the end of the next Parliament.\" She said new mothers were already entitled to 12 months leave, but that many women could not take it as only six of those months were paid. \"We have made a firm commitment. We will definitely extend the maternity pay, from the six months where it now is to nine months, that\\'s the extra £1,400.\" She said ministers would consult on other proposals that could see fathers being allowed to take some of their partner\\'s maternity pay or leave period, or extending the rights of flexible working to carers or parents of older children. The Shadow Secretary of State for the Family, Theresa May, said: \"These plans were announced by Gordon Brown in his pre-budget review in December and Tony Blair is now recycling it in his desperate bid to win back women voters.\"\\n\\nShe said the Conservatives would announce their proposals closer to the General Election. Liberal Democrat spokeswoman for women Sandra Gidley said: \"While mothers would welcome any extra maternity pay the Liberal Democrats feel this money is being misdirected.\" She said her party would boost maternity pay in the first six months to allow more women to stay at home in that time.\\n\\nMs Hewitt also stressed the plans would be paid for by taxpayers, not employers. But David Frost, director general of the British Chambers of Commerce, warned that many small firms could be \"crippled\" by the move. \"While the majority of any salary costs may be covered by the government\\'s statutory pay, recruitment costs, advertising costs, retraining costs and the strain on the company will not be,\" he said. Further details of the government\\'s plans will be outlined on Monday. New mothers are currently entitled to 90% of average earnings for the first six weeks after giving birth, followed by £102.80 a week until the baby is six months old.\\n'"
            ],
            "application/vnd.google.colaboratory.intrinsic+json": {
              "type": "string"
            }
          },
          "metadata": {},
          "execution_count": 5
        }
      ]
    },
    {
      "cell_type": "code",
      "source": [
        "sport = df.Sport.tolist()\n",
        "sport[0]"
      ],
      "metadata": {
        "colab": {
          "base_uri": "https://localhost:8080/",
          "height": 223
        },
        "id": "l2-oi0bIKPBO",
        "outputId": "c055b4e2-0059-4c30-f8d9-3bfadc0cf7e8"
      },
      "execution_count": null,
      "outputs": [
        {
          "output_type": "execute_result",
          "data": {
            "text/plain": [
              "'Claxton hunting first major medal\\n\\nBritish hurdler Sarah Claxton is confident she can win her first major medal at next month\\'s European Indoor Championships in Madrid.\\n\\nThe 25-year-old has already smashed the British record over 60m hurdles twice this season, setting a new mark of 7.96 seconds to win the AAAs title. \"I am quite confident,\" said Claxton. \"But I take each race as it comes. \"As long as I keep up my training but not do too much I think there is a chance of a medal.\" Claxton has won the national 60m hurdles title for the past three years but has struggled to translate her domestic success to the international stage. Now, the Scotland-born athlete owns the equal fifth-fastest time in the world this year. And at last week\\'s Birmingham Grand Prix, Claxton left European medal favourite Russian Irina Shevchenko trailing in sixth spot.\\n\\nFor the first time, Claxton has only been preparing for a campaign over the hurdles - which could explain her leap in form. In previous seasons, the 25-year-old also contested the long jump but since moving from Colchester to London she has re-focused her attentions. Claxton will see if her new training regime pays dividends at the European Indoors which take place on 5-6 March.\\n'"
            ],
            "application/vnd.google.colaboratory.intrinsic+json": {
              "type": "string"
            }
          },
          "metadata": {},
          "execution_count": 8
        }
      ]
    },
    {
      "cell_type": "code",
      "source": [
        "# combining all the documents into one list\n",
        "\n",
        "combined_doc = health + sport + politics\n",
        "\n",
        "# Shuffling the documents\n",
        "random.shuffle(combined_doc)\n",
        "\n",
        "combined_doc[:3]"
      ],
      "metadata": {
        "colab": {
          "base_uri": "https://localhost:8080/"
        },
        "id": "01LaB7k2M5hy",
        "outputId": "dd675c4a-1ab4-4492-bd8b-d4a288e6b524"
      },
      "execution_count": null,
      "outputs": [
        {
          "output_type": "execute_result",
          "data": {
            "text/plain": [
              "['Nat Insurance to rise, say Tories\\n\\nNational Insurance will be raised if Labour wins the next election, Tory leader Michael Howard has claimed.\\n\\nTony Blair has said he does not want higher tax rates for top earners but on Wednesday said other tax promises would be left to Labour\\'s manifesto. Prime minister\\'s questions also saw Mr Blair predict that new plans would probably cut net immigration. He attacked Tory plans to process asylum claims abroad - but Mr Howard said Labour had proposed the idea too.\\n\\nThe Commons questions session again saw the leaders of the two biggest parties shape up for the forthcoming election campaign. The Tories have promised £4bn in tax cuts but have yet to say where they will fall. Mr Howard pointed to the Institute for Fiscal Studies\\' predictions that Labour will need to increase taxes to cover an £11bn gap in its spending plans. He accused ministers of wasting money on unsuccessful attempts to curb bad behaviour and truancy in schools and on slow asylum processing. It was no good Mr Blair claiming tax pledges were being left to the manifesto as he had given one to MPs on Tuesday about the top rate of income tax, argued Mr Howard. Pointing to national insurance, he added: \"Everyone knows tax will go up under Labour: isn\\'t it now clear which tax it would be?\"\\n\\nMr Blair instead hailed Labour\\'s achievement in using a strong economy to invest in public services. \"When we have money not only going into extra teachers and nurses but equipment in schools and hospitals, that money is not wasted,\" he said. On the tax questions, he added: \"We will make commitments on tax at the time of the manifesto.\" Home Secretary Charles Clarke this week published plans for a new points system for economic migrants, with only high-skilled workers allowed into the UK from outside the European Union.\\n\\nMr Blair said abuses would be weeded out and chain migration, where families automatically get the right to settle with immigrant workers, would end. That would probably create a fall in the migrant numbers, he said. The prime minister ridiculed the Tory plans for asylum quotas and for processing all asylum claims overseas. He challenged the Tories on which country would house their processing centres - what he called a \"fantasy island\". Mr Howard read from a letter about the government\\'s own plans at the European Council of Ministers for processing asylum seekers outside the EU. But Mr Blair said: \"All the other countries could not agree on the way forward, nor could the UN.\"\\n',\n",
              " 'Man City 0-2 Man Utd\\n\\nManchester United reduced Chelsea\\'s Premiership lead to nine points after a scrappy victory over Manchester City.\\n\\nWayne Rooney met Gary Neville\\'s cross to the near post with a low shot, which went in via a deflection off Richard Dunne, to put United ahead. Seven minutes later, the unfortunate Dunne hooked a volley over David James\\' head and into his own net. Steve McManaman wasted City\\'s best chance when he shot wide from three yards in the first half. In the opening 45 minutes United had looked unlikely to earn the win they needed to maintain any chance of catching Chelsea in the title race. Their approach play was more laboured than patient and they managed to fashion just one chance - a Paul Scholes header over the bar. And City seemed to be content to sit back and try and hit their rivals on the break as the game settled into a tepid pattern. Only Shaun Wright-Phillips appeared capable of interrupting the monotony, looking lively down the right and causing Gabriel Heinze problems.\\n\\nWes Brown also found Wright-Phillips to be a difficult opponent when the tricky winger embarrassed him near the touchline. Wright-Phillips\\' sublime skill and pace took him past Brown and he delivered a pin-point centre to the feet of McManaman. But the former Liverpool player demonstrated why he has never scored against United by side-footing the easy chance wide. John O\\'Shea was forced off after an earlier clash with Sylvain Distin and Cristiano Ronaldo came on to replace him. He immediately caused Ben Thatcher some discomfort and looked set to inject some much-needed pace into the United attack. Rooney was being well marshalled by Dunne - but that was all about to change. After the break, United poured forward and there was a renewed urgency about their play. And when Neville delivered a cross in a carbon copy of City\\'s best first-half chance, Rooney showed McManaman how to do it - even if he needed the help of Dunne\\'s leg. Worse was to come for Dunne, who had been having a fine match. On 75 minutes, he scored a horrible own goal when attempting to volley clear Rooney\\'s cross and United seemed home and dry. However, City did fight back and Fowler missed another great chance from close range. And United keeper Roy Carroll saved well from Kiki Musampa. But United could have a had a third late on when substitute Ryan Giggs hit the post.\\n\\n- Manchester City boss Kevin Keegan: \"We had a great chance to take the lead and the first goal was always going to be crucial. \"We started off with a good tempo but then we allowed them to dictate the pace a bit too much. \"But we still had four good chances, two after we\\'d gone 2-0 down, the one McManaman missed was very similar to the one Wayne Rooney scored from.\" \\n - Manchester United boss Sir Alex Ferguson: \"It wasn\\'t our best performance of the last three months but I think we\\'re deserved winners. \"At times, especially in the first half, we didn\\'t play with enough speed. But with (Cristiano) Ronaldo and (Ryan) Giggs on, the speed improved. \"Derby games can be like that, they can be scrappy, dull, horrible and it was maybe like that.\" Man City: James, Mills (Bradley Wright-Phillips 83), Dunne, Distin, Thatcher, Shaun Wright-Phillips, Barton (Macken 68), Sibierski, McManaman, Musampa, Fowler. Subs Not Used: Weaver, Onuoha, Flood. Booked: Fowler, Sibierski. Man Utd: Carroll, Gary Neville, Ferdinand, Brown, Heinze, O\\'Shea (Ronaldo 33), Keane, Fortune, Fletcher (Giggs 64), Rooney, Scholes (Phil Neville 84). Subs Not Used: Howard, Bellion. Booked: Rooney, Scholes, Keane. Goals: Rooney 68, Dunne 75 og. Att: 47,111 Ref: S Bennett (Kent).\\n',\n",
              " \"One activity of the State's SIM project is to establish a state-wide event notification system.  Iowa is starting with ADT files from Iowa hospitals and sending notifications to care teams when a patient has a ED Discharge, an Inpatient Admission or an Inpatient Discharge.  The SIM project is funding the infrastructure and will be piloting the project with Medicaid data, however, the design is to be multipayer with the ability to allow any payer's population to take advantage of the notification system.\"]"
            ]
          },
          "metadata": {},
          "execution_count": 9
        }
      ]
    },
    {
      "cell_type": "code",
      "source": [
        "# Removing punctuations, numbers and line spacing from the documents\n",
        "\n",
        "cleaned_docs = []\n",
        "for doc in combined_doc:\n",
        "  # removing punctuations in each reviews\n",
        "  remove_punc = re.sub(r'[^\\w\\s]', '', doc)\n",
        "  # removing numbers from the reviews\n",
        "  remove_numbers = re.sub(r'[0-9]+', '', remove_punc)\n",
        "  line_split = remove_numbers.replace('\\n', ' ')\n",
        "  cleaned_docs.append(line_split)\n",
        "cleaned_docs[:2]"
      ],
      "metadata": {
        "colab": {
          "base_uri": "https://localhost:8080/"
        },
        "id": "k96vHeuQPn8v",
        "outputId": "6abde575-2c0d-4acd-88fd-8cc743e749cb"
      },
      "execution_count": null,
      "outputs": [
        {
          "output_type": "execute_result",
          "data": {
            "text/plain": [
              "['Nat Insurance to rise say Tories  National Insurance will be raised if Labour wins the next election Tory leader Michael Howard has claimed  Tony Blair has said he does not want higher tax rates for top earners but on Wednesday said other tax promises would be left to Labours manifesto Prime ministers questions also saw Mr Blair predict that new plans would probably cut net immigration He attacked Tory plans to process asylum claims abroad  but Mr Howard said Labour had proposed the idea too  The Commons questions session again saw the leaders of the two biggest parties shape up for the forthcoming election campaign The Tories have promised bn in tax cuts but have yet to say where they will fall Mr Howard pointed to the Institute for Fiscal Studies predictions that Labour will need to increase taxes to cover an bn gap in its spending plans He accused ministers of wasting money on unsuccessful attempts to curb bad behaviour and truancy in schools and on slow asylum processing It was no good Mr Blair claiming tax pledges were being left to the manifesto as he had given one to MPs on Tuesday about the top rate of income tax argued Mr Howard Pointing to national insurance he added Everyone knows tax will go up under Labour isnt it now clear which tax it would be  Mr Blair instead hailed Labours achievement in using a strong economy to invest in public services When we have money not only going into extra teachers and nurses but equipment in schools and hospitals that money is not wasted he said On the tax questions he added We will make commitments on tax at the time of the manifesto Home Secretary Charles Clarke this week published plans for a new points system for economic migrants with only highskilled workers allowed into the UK from outside the European Union  Mr Blair said abuses would be weeded out and chain migration where families automatically get the right to settle with immigrant workers would end That would probably create a fall in the migrant numbers he said The prime minister ridiculed the Tory plans for asylum quotas and for processing all asylum claims overseas He challenged the Tories on which country would house their processing centres  what he called a fantasy island Mr Howard read from a letter about the governments own plans at the European Council of Ministers for processing asylum seekers outside the EU But Mr Blair said All the other countries could not agree on the way forward nor could the UN ',\n",
              " 'Man City  Man Utd  Manchester United reduced Chelseas Premiership lead to nine points after a scrappy victory over Manchester City  Wayne Rooney met Gary Nevilles cross to the near post with a low shot which went in via a deflection off Richard Dunne to put United ahead Seven minutes later the unfortunate Dunne hooked a volley over David James head and into his own net Steve McManaman wasted Citys best chance when he shot wide from three yards in the first half In the opening  minutes United had looked unlikely to earn the win they needed to maintain any chance of catching Chelsea in the title race Their approach play was more laboured than patient and they managed to fashion just one chance  a Paul Scholes header over the bar And City seemed to be content to sit back and try and hit their rivals on the break as the game settled into a tepid pattern Only Shaun WrightPhillips appeared capable of interrupting the monotony looking lively down the right and causing Gabriel Heinze problems  Wes Brown also found WrightPhillips to be a difficult opponent when the tricky winger embarrassed him near the touchline WrightPhillips sublime skill and pace took him past Brown and he delivered a pinpoint centre to the feet of McManaman But the former Liverpool player demonstrated why he has never scored against United by sidefooting the easy chance wide John OShea was forced off after an earlier clash with Sylvain Distin and Cristiano Ronaldo came on to replace him He immediately caused Ben Thatcher some discomfort and looked set to inject some muchneeded pace into the United attack Rooney was being well marshalled by Dunne  but that was all about to change After the break United poured forward and there was a renewed urgency about their play And when Neville delivered a cross in a carbon copy of Citys best firsthalf chance Rooney showed McManaman how to do it  even if he needed the help of Dunnes leg Worse was to come for Dunne who had been having a fine match On  minutes he scored a horrible own goal when attempting to volley clear Rooneys cross and United seemed home and dry However City did fight back and Fowler missed another great chance from close range And United keeper Roy Carroll saved well from Kiki Musampa But United could have a had a third late on when substitute Ryan Giggs hit the post   Manchester City boss Kevin Keegan We had a great chance to take the lead and the first goal was always going to be crucial We started off with a good tempo but then we allowed them to dictate the pace a bit too much But we still had four good chances two after wed gone  down the one McManaman missed was very similar to the one Wayne Rooney scored from    Manchester United boss Sir Alex Ferguson It wasnt our best performance of the last three months but I think were deserved winners At times especially in the first half we didnt play with enough speed But with Cristiano Ronaldo and Ryan Giggs on the speed improved Derby games can be like that they can be scrappy dull horrible and it was maybe like that Man City James Mills Bradley WrightPhillips  Dunne Distin Thatcher Shaun WrightPhillips Barton Macken  Sibierski McManaman Musampa Fowler Subs Not Used Weaver Onuoha Flood Booked Fowler Sibierski Man Utd Carroll Gary Neville Ferdinand Brown Heinze OShea Ronaldo  Keane Fortune Fletcher Giggs  Rooney Scholes Phil Neville  Subs Not Used Howard Bellion Booked Rooney Scholes Keane Goals Rooney  Dunne  og Att  Ref S Bennett Kent ']"
            ]
          },
          "metadata": {},
          "execution_count": 10
        }
      ]
    },
    {
      "cell_type": "markdown",
      "source": [
        "#### Stopwords."
      ],
      "metadata": {
        "id": "683bwRHvMF_8"
      }
    },
    {
      "cell_type": "code",
      "source": [
        "stpwords = stopwords.words('english')\n",
        "print(stpwords)"
      ],
      "metadata": {
        "colab": {
          "base_uri": "https://localhost:8080/"
        },
        "id": "EzIqweavKWOG",
        "outputId": "e462f548-eeeb-4f7b-e27a-75c4a4bac8d5"
      },
      "execution_count": null,
      "outputs": [
        {
          "output_type": "stream",
          "name": "stdout",
          "text": [
            "['i', 'me', 'my', 'myself', 'we', 'our', 'ours', 'ourselves', 'you', \"you're\", \"you've\", \"you'll\", \"you'd\", 'your', 'yours', 'yourself', 'yourselves', 'he', 'him', 'his', 'himself', 'she', \"she's\", 'her', 'hers', 'herself', 'it', \"it's\", 'its', 'itself', 'they', 'them', 'their', 'theirs', 'themselves', 'what', 'which', 'who', 'whom', 'this', 'that', \"that'll\", 'these', 'those', 'am', 'is', 'are', 'was', 'were', 'be', 'been', 'being', 'have', 'has', 'had', 'having', 'do', 'does', 'did', 'doing', 'a', 'an', 'the', 'and', 'but', 'if', 'or', 'because', 'as', 'until', 'while', 'of', 'at', 'by', 'for', 'with', 'about', 'against', 'between', 'into', 'through', 'during', 'before', 'after', 'above', 'below', 'to', 'from', 'up', 'down', 'in', 'out', 'on', 'off', 'over', 'under', 'again', 'further', 'then', 'once', 'here', 'there', 'when', 'where', 'why', 'how', 'all', 'any', 'both', 'each', 'few', 'more', 'most', 'other', 'some', 'such', 'no', 'nor', 'not', 'only', 'own', 'same', 'so', 'than', 'too', 'very', 's', 't', 'can', 'will', 'just', 'don', \"don't\", 'should', \"should've\", 'now', 'd', 'll', 'm', 'o', 're', 've', 'y', 'ain', 'aren', \"aren't\", 'couldn', \"couldn't\", 'didn', \"didn't\", 'doesn', \"doesn't\", 'hadn', \"hadn't\", 'hasn', \"hasn't\", 'haven', \"haven't\", 'isn', \"isn't\", 'ma', 'mightn', \"mightn't\", 'mustn', \"mustn't\", 'needn', \"needn't\", 'shan', \"shan't\", 'shouldn', \"shouldn't\", 'wasn', \"wasn't\", 'weren', \"weren't\", 'won', \"won't\", 'wouldn', \"wouldn't\"]\n"
          ]
        }
      ]
    },
    {
      "cell_type": "markdown",
      "source": [
        "#### Tokenizing."
      ],
      "metadata": {
        "id": "f70a4YMgMN1Q"
      }
    },
    {
      "cell_type": "code",
      "source": [
        "ps = PorterStemmer()\n",
        "filtered_docs = []\n",
        "for doc in cleaned_docs:\n",
        "  tokens = word_tokenize(doc)\n",
        "  tmp = ''\n",
        "  for word in tokens:\n",
        "    if word not in stpwords:\n",
        "      tmp += ps.stem(word) + ' '\n",
        "  filtered_docs.append(tmp)\n",
        "\n",
        "filtered_docs[:2]\n"
      ],
      "metadata": {
        "colab": {
          "base_uri": "https://localhost:8080/"
        },
        "id": "g-NpcaYDLKjm",
        "outputId": "545d49a0-af21-48de-bffb-3db22a4fc9c0"
      },
      "execution_count": null,
      "outputs": [
        {
          "output_type": "execute_result",
          "data": {
            "text/plain": [
              "['nat insur rise say tori nation insur rais labour win next elect tori leader michael howard claim toni blair said want higher tax rate top earner wednesday said tax promis would left labour manifesto prime minist question also saw mr blair predict new plan would probabl cut net immigr he attack tori plan process asylum claim abroad mr howard said labour propos idea the common question session saw leader two biggest parti shape forthcom elect campaign the tori promis bn tax cut yet say fall mr howard point institut fiscal studi predict labour need increas tax cover bn gap spend plan he accus minist wast money unsuccess attempt curb bad behaviour truanci school slow asylum process it good mr blair claim tax pledg left manifesto given one mp tuesday top rate incom tax argu mr howard point nation insur ad everyon know tax go labour isnt clear tax would mr blair instead hail labour achiev use strong economi invest public servic when money go extra teacher nurs equip school hospit money wast said on tax question ad we make commit tax time manifesto home secretari charl clark week publish plan new point system econom migrant highskil worker allow uk outsid european union mr blair said abus would weed chain migrat famili automat get right settl immigr worker would end that would probabl creat fall migrant number said the prime minist ridicul tori plan asylum quota process asylum claim oversea he challeng tori countri would hous process centr call fantasi island mr howard read letter govern plan european council minist process asylum seeker outsid eu but mr blair said all countri could agre way forward could un ',\n",
              " 'man citi man utd manchest unit reduc chelsea premiership lead nine point scrappi victori manchest citi wayn rooney met gari nevil cross near post low shot went via deflect richard dunn put unit ahead seven minut later unfortun dunn hook volley david jame head net steve mcmanaman wast citi best chanc shot wide three yard first half in open minut unit look unlik earn win need maintain chanc catch chelsea titl race their approach play labour patient manag fashion one chanc paul schole header bar and citi seem content sit back tri hit rival break game settl tepid pattern onli shaun wrightphillip appear capabl interrupt monotoni look live right caus gabriel heinz problem we brown also found wrightphillip difficult oppon tricki winger embarrass near touchlin wrightphillip sublim skill pace took past brown deliv pinpoint centr feet mcmanaman but former liverpool player demonstr never score unit sidefoot easi chanc wide john oshea forc earlier clash sylvain distin cristiano ronaldo came replac he immedi caus ben thatcher discomfort look set inject muchneed pace unit attack rooney well marshal dunn chang after break unit pour forward renew urgenc play and nevil deliv cross carbon copi citi best firsthalf chanc rooney show mcmanaman even need help dunn leg wors come dunn fine match on minut score horribl goal attempt volley clear rooney cross unit seem home dri howev citi fight back fowler miss anoth great chanc close rang and unit keeper roy carrol save well kiki musampa but unit could third late substitut ryan gigg hit post manchest citi boss kevin keegan we great chanc take lead first goal alway go crucial we start good tempo allow dictat pace bit much but still four good chanc two wed gone one mcmanaman miss similar one wayn rooney score manchest unit boss sir alex ferguson it wasnt best perform last three month i think deserv winner at time especi first half didnt play enough speed but cristiano ronaldo ryan gigg speed improv derbi game like scrappi dull horribl mayb like man citi jame mill bradley wrightphillip dunn distin thatcher shaun wrightphillip barton macken sibierski mcmanaman musampa fowler sub not use weaver onuoha flood book fowler sibierski man utd carrol gari nevil ferdinand brown heinz oshea ronaldo kean fortun fletcher gigg rooney schole phil nevil sub not use howard bellion book rooney schole kean goal rooney dunn og att ref s bennett kent ']"
            ]
          },
          "metadata": {},
          "execution_count": 12
        }
      ]
    },
    {
      "cell_type": "code",
      "source": [],
      "metadata": {
        "id": "r6zfQI3Lr5ba"
      },
      "execution_count": null,
      "outputs": []
    },
    {
      "cell_type": "code",
      "source": [
        "len(max(filtered_docs))"
      ],
      "metadata": {
        "colab": {
          "base_uri": "https://localhost:8080/"
        },
        "id": "zjcy6zVjmpPS",
        "outputId": "20968a69-1154-4517-fc87-5e29310c9d3b"
      },
      "execution_count": null,
      "outputs": [
        {
          "output_type": "execute_result",
          "data": {
            "text/plain": [
              "586"
            ]
          },
          "metadata": {},
          "execution_count": 13
        }
      ]
    },
    {
      "cell_type": "markdown",
      "source": [
        "#### Vector Space"
      ],
      "metadata": {
        "id": "RJ7tzcDyWg4T"
      }
    },
    {
      "cell_type": "code",
      "source": [
        "from sklearn.feature_extraction.text import TfidfVectorizer\n",
        "\n",
        "vectorizer = TfidfVectorizer()\n",
        "vect = vectorizer.fit_transform(filtered_docs)\n",
        "print(vect.todense())"
      ],
      "metadata": {
        "colab": {
          "base_uri": "https://localhost:8080/"
        },
        "id": "AcUEDMr-OYOe",
        "outputId": "093141f7-8c93-47f1-bd2a-70fd9d393aac"
      },
      "execution_count": null,
      "outputs": [
        {
          "output_type": "stream",
          "name": "stdout",
          "text": [
            "[[0. 0. 0. ... 0. 0. 0.]\n",
            " [0. 0. 0. ... 0. 0. 0.]\n",
            " [0. 0. 0. ... 0. 0. 0.]\n",
            " ...\n",
            " [0. 0. 0. ... 0. 0. 0.]\n",
            " [0. 0. 0. ... 0. 0. 0.]\n",
            " [0. 0. 0. ... 0. 0. 0.]]\n"
          ]
        }
      ]
    },
    {
      "cell_type": "code",
      "source": [
        "vect.shape"
      ],
      "metadata": {
        "colab": {
          "base_uri": "https://localhost:8080/"
        },
        "id": "IsZ615jRnCH-",
        "outputId": "a53ecc87-4df9-4900-f2c0-08c6add8bc55"
      },
      "execution_count": null,
      "outputs": [
        {
          "output_type": "execute_result",
          "data": {
            "text/plain": [
              "(324, 6189)"
            ]
          },
          "metadata": {},
          "execution_count": 15
        }
      ]
    },
    {
      "cell_type": "markdown",
      "source": [
        "#### Clustering"
      ],
      "metadata": {
        "id": "E1BI-JopY6_r"
      }
    },
    {
      "cell_type": "code",
      "source": [
        "from sklearn.cluster import KMeans\n",
        "K = 3\n",
        "model = KMeans(n_clusters=K, random_state=42)\n",
        "model.fit(vect)\n",
        "\n",
        "print(model.labels_)\n",
        "print(model.cluster_centers_)"
      ],
      "metadata": {
        "colab": {
          "base_uri": "https://localhost:8080/"
        },
        "id": "Jvgaqh6EYWab",
        "outputId": "37869737-71bc-47ef-9b18-11d7e9355e9d"
      },
      "execution_count": null,
      "outputs": [
        {
          "output_type": "stream",
          "name": "stdout",
          "text": [
            "[1 1 0 1 2 0 2 0 2 1 2 0 1 1 0 1 0 2 1 1 0 0 0 1 2 1 0 1 0 1 2 0 1 0 1 0 2\n",
            " 1 2 2 2 1 2 1 1 1 0 1 0 0 0 1 0 2 1 2 0 2 0 1 2 0 2 0 0 1 2 1 2 0 0 0 0 1\n",
            " 1 2 1 0 1 2 1 2 2 0 2 0 1 1 1 2 2 2 1 1 0 0 2 2 2 0 1 0 1 1 2 1 1 2 1 1 2\n",
            " 2 2 1 1 0 0 1 0 2 2 1 2 0 0 0 2 1 0 2 1 1 0 1 2 1 0 1 1 1 0 0 2 0 0 0 1 0\n",
            " 0 1 0 1 2 2 1 2 2 0 0 1 2 1 2 0 2 1 1 0 1 0 2 0 1 1 1 0 0 1 0 2 2 1 2 2 1\n",
            " 2 1 1 2 0 0 0 2 1 2 1 1 1 1 2 1 0 1 2 0 2 2 1 0 2 0 1 0 0 1 0 0 0 2 2 0 1\n",
            " 2 0 0 2 1 1 2 0 1 1 2 0 0 2 1 0 1 0 2 2 1 0 2 0 1 0 1 2 1 1 0 1 1 0 1 0 0\n",
            " 1 2 2 0 0 0 2 1 1 0 1 1 2 0 1 2 0 1 1 1 2 1 2 1 1 0 1 2 0 1 2 1 2 1 0 2 2\n",
            " 0 1 2 2 1 2 2 0 1 0 2 2 0 2 1 1 0 0 2 1 1 0 0 1 1 1 0 1]\n",
            "[[0.         0.         0.         ... 0.         0.         0.        ]\n",
            " [0.         0.         0.00032966 ... 0.00051804 0.         0.        ]\n",
            " [0.01256634 0.00102528 0.         ... 0.         0.0005832  0.00138695]]\n"
          ]
        }
      ]
    },
    {
      "cell_type": "markdown",
      "source": [
        "#### Function that cleans input texts."
      ],
      "metadata": {
        "id": "GcTaghfHazOL"
      }
    },
    {
      "cell_type": "code",
      "source": [
        "def cleaner(texts):\n",
        "  new_docs = []\n",
        "  for doc in texts:\n",
        "    # removing punctuations in each reviews\n",
        "    remove_punc = re.sub(r'[^\\w\\s]', '', doc)\n",
        "    # removing numbers from the reviews\n",
        "    remove_numbers = re.sub(r'[0-9]+', '', remove_punc)\n",
        "    line_split = remove_numbers.replace('\\n', ' ')\n",
        "    new_docs.append(line_split)\n",
        "  filtered_docs = []\n",
        "  for doc in new_docs:\n",
        "    tokens = word_tokenize(doc)\n",
        "    tmp = ''\n",
        "    for word in tokens:\n",
        "      if word not in stpwords:\n",
        "        tmp += ps.stem(word) + ' '\n",
        "    filtered_docs.append(tmp)\n",
        "  return filtered_docs\n"
      ],
      "metadata": {
        "id": "quFoQrQvZeQm"
      },
      "execution_count": null,
      "outputs": []
    },
    {
      "cell_type": "markdown",
      "source": [
        "Note : \n",
        "\n",
        "- The vectorizer requires an input of lists of document.\n",
        "- Inputing a random texts will give an error, because the model is trained with a total of 7799 inputs.\n"
      ],
      "metadata": {
        "id": "E3H5yIWnGZFD"
      }
    },
    {
      "cell_type": "code",
      "source": [
        "# prediction.\n",
        "all_docs = health + sport + politics\n",
        "docs = cleaner(all_docs)\n",
        "\n",
        "# since the first 100 docs is about tech, then they should give the same prediction\n",
        "vect = vectorizer.transform(docs)\n",
        "prediction = model.predict(vect[:108])\n",
        "print(prediction)"
      ],
      "metadata": {
        "colab": {
          "base_uri": "https://localhost:8080/"
        },
        "id": "y_lahODrfZ1O",
        "outputId": "3dbd0fe2-9b1b-4a52-c79b-9395c49d476c"
      },
      "execution_count": null,
      "outputs": [
        {
          "output_type": "stream",
          "name": "stdout",
          "text": [
            "[0 0 0 0 0 0 0 0 0 0 0 0 0 0 0 0 0 0 0 0 0 0 0 0 0 0 0 0 0 0 0 0 0 0 0 0 0\n",
            " 0 0 1 0 0 0 0 0 0 0 0 0 0 0 0 0 0 0 0 0 0 0 0 0 0 0 0 1 0 0 0 0 0 0 0 0 0\n",
            " 0 0 0 0 0 0 0 0 0 0 0 0 0 0 0 0 0 0 0 0 0 0 0 0 0 0 0 0 0 0 0 0 0 0]\n"
          ]
        }
      ]
    },
    {
      "cell_type": "markdown",
      "source": [
        "It can be seen that there is only 2 ones in the result. Meaning tech is tagged label 0.\n",
        "\n",
        "trying for sports also"
      ],
      "metadata": {
        "id": "E_LDhu0Csz2K"
      }
    },
    {
      "cell_type": "code",
      "source": [
        "# Predicting the Sport documents\n",
        "\n",
        "prediction = model.predict(vect[108:216])\n",
        "print(prediction)"
      ],
      "metadata": {
        "colab": {
          "base_uri": "https://localhost:8080/"
        },
        "id": "dbdBoQT3hD1i",
        "outputId": "d759a380-01bd-4e05-9718-bd9f6629ae93"
      },
      "execution_count": null,
      "outputs": [
        {
          "output_type": "stream",
          "name": "stdout",
          "text": [
            "[2 2 2 2 2 2 2 2 2 2 2 2 2 2 2 2 2 2 2 2 2 2 2 2 2 2 2 2 2 2 2 2 2 2 2 2 2\n",
            " 2 2 2 2 2 2 2 2 2 2 2 2 2 2 2 2 2 2 2 2 2 2 2 2 2 2 2 2 2 2 2 2 2 2 2 2 2\n",
            " 2 2 2 2 2 2 2 2 2 2 2 2 2 2 2 2 2 2 2 2 1 1 1 1 1 1 1 1 1 1 1 1 1 1]\n"
          ]
        }
      ]
    },
    {
      "cell_type": "markdown",
      "source": [
        "The sport doc is labelled as two."
      ],
      "metadata": {
        "id": "2LVoxrRvvO4U"
      }
    },
    {
      "cell_type": "code",
      "source": [
        "# Predicting the Politics documents\n",
        "\n",
        "prediction = model.predict(vect[216:324])\n",
        "print(prediction)"
      ],
      "metadata": {
        "colab": {
          "base_uri": "https://localhost:8080/"
        },
        "id": "MPKDsbvucW7V",
        "outputId": "2e1da81a-f6ed-413f-b219-341121af6480"
      },
      "execution_count": null,
      "outputs": [
        {
          "output_type": "stream",
          "name": "stdout",
          "text": [
            "[1 1 1 1 1 1 1 1 1 1 1 1 1 1 1 1 1 1 1 1 1 1 1 1 1 1 1 1 1 1 1 1 1 1 1 1 1\n",
            " 1 1 1 1 1 1 1 1 1 1 1 1 1 1 1 1 1 1 1 1 1 1 1 1 1 1 1 1 1 1 1 1 1 1 1 1 1\n",
            " 1 1 1 1 1 1 1 1 1 1 1 1 1 1 1 1 1 1 1 1 1 1 1 1 1 1 1 1 1 1 1 1 1 1]\n"
          ]
        }
      ]
    },
    {
      "cell_type": "markdown",
      "source": [
        "The majority we have is one. Hence politics is labelled as one."
      ],
      "metadata": {
        "id": "eJ5vQ0zivj_N"
      }
    },
    {
      "cell_type": "code",
      "source": [],
      "metadata": {
        "id": "S0-FX0w2mGdL"
      },
      "execution_count": null,
      "outputs": []
    },
    {
      "cell_type": "markdown",
      "source": [
        "##### Conclusion :\n",
        "\n",
        "- The clustering model used performed well. it's prediction were almost accurate.\n",
        "- Improvements can be made about the limitation of the Vectorizer. "
      ],
      "metadata": {
        "id": "wPkh2SAyIsYU"
      }
    },
    {
      "cell_type": "code",
      "source": [],
      "metadata": {
        "id": "maOhfslmgi1a"
      },
      "execution_count": null,
      "outputs": []
    }
  ]
}